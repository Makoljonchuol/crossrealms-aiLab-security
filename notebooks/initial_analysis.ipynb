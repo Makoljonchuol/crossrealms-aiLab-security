{
 "cells": [
  {
   "cell_type": "code",
   "execution_count": 2,
   "id": "8e5c10ec",
   "metadata": {},
   "outputs": [
    {
     "name": "stdout",
     "output_type": "stream",
     "text": [
      "CrossRealms AI Lab Security - Initial Analysis Ready!\n"
     ]
    }
   ],
   "source": [
    "import pandas as pd\n",
    "import numpy as np\n",
    "import matplotlib.pyplot as plt\n",
    "import seaborn as sns\n",
    "\n",
    "print(\"CrossRealms AI Lab Security - Initial Analysis Ready!\")"
   ]
  },
  {
   "cell_type": "code",
   "execution_count": null,
   "id": "c62c1b44",
   "metadata": {},
   "outputs": [],
   "source": [
    "# Load honeypot JSON log file into a DataFrame\n",
    "import pandas as pd\n",
    "import json\n",
    " \n",
    "# Update the file path to your actual honeypot log file\n",
    "log_file_path = '/path/to/your/honeypot_log.json'\n",
    " \n",
    "# If the file contains one JSON object per line (common for logs)\n",
    "try:\n",
    "    df = pd.read_json(log_file_path, lines=True)\n",
    "except ValueError:\n",
    "    # If the file is a single JSON array\n",
    "    with open(log_file_path, 'r') as f:\n",
    "        data = json.load(f)\n",
    "    df = pd.DataFrame(data)\n",
    " \n",
    "print('Loaded log file with shape:', df.shape)\n",
    "df.head()"
   ]
  }
 ],
 "metadata": {
  "kernelspec": {
   "display_name": "venv (3.11.5)",
   "language": "python",
   "name": "python3"
  },
  "language_info": {
   "codemirror_mode": {
    "name": "ipython",
    "version": 3
   },
   "file_extension": ".py",
   "mimetype": "text/x-python",
   "name": "python",
   "nbconvert_exporter": "python",
   "pygments_lexer": "ipython3",
   "version": "3.11.5"
  }
 },
 "nbformat": 4,
 "nbformat_minor": 5
}
